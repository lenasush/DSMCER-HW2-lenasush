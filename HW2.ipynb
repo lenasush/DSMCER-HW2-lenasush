{
 "cells": [
  {
   "cell_type": "markdown",
   "metadata": {},
   "source": [
    "### Don't change any cell that begins with DNC!  These are here to separate sections so we can grade the assignment more easily.\n",
    "\n",
    "#### Add your imports in the cell below here"
   ]
  },
  {
   "cell_type": "code",
   "execution_count": null,
   "metadata": {
    "collapsed": true
   },
   "outputs": [],
   "source": []
  },
  {
   "cell_type": "markdown",
   "metadata": {},
   "source": [
    "## DNC: Begin Part 1\n",
    "\n",
    "### Part 1: Basic Data Visualization \n",
    "\n",
    "#### Plotting x-y data\n",
    "\n",
    "* Use the HCEPDB file you have downloaded with your `setup.sh` script from SEDS-HW1. Create a single 4x4 composite plot (_not 4 separate figures_).  The plots should contain the following data\n",
    "    * Upper-left: PCE vs VOC\n",
    "    * UR: PCE vs JCS\n",
    "    * LL: E_HOMO vs VOC\n",
    "    * LR: E_LUMO vs PCE \n",
    "\n",
    "* You should make the plots the highest quality possible and, in your judgement, ready for inclusion in a formal report or publication. \n",
    "\n",
    "* In the cell after you are finished making the plot add a markdown cell and add the following information \n",
    "    * There are five terms above from the HCEPDB that relate to photovoltaic materials - define them as they pertain to molecules that could be used for energy conversion applications \n",
    "    \n",
    "    * Briefly explain the changes you made from the default plot and why you made them \n",
    "    \n"
   ]
  },
  {
   "cell_type": "code",
   "execution_count": null,
   "metadata": {
    "collapsed": true
   },
   "outputs": [],
   "source": []
  },
  {
   "cell_type": "code",
   "execution_count": null,
   "metadata": {
    "collapsed": true
   },
   "outputs": [],
   "source": []
  },
  {
   "cell_type": "code",
   "execution_count": null,
   "metadata": {
    "collapsed": true
   },
   "outputs": [],
   "source": []
  },
  {
   "cell_type": "code",
   "execution_count": null,
   "metadata": {
    "collapsed": true
   },
   "outputs": [],
   "source": []
  },
  {
   "cell_type": "code",
   "execution_count": null,
   "metadata": {
    "collapsed": true
   },
   "outputs": [],
   "source": []
  },
  {
   "cell_type": "markdown",
   "metadata": {},
   "source": [
    "## DNC: Begin Part 2\n",
    "\n",
    "### Part 2: Contour plots of a free energy surface\n",
    "\n",
    "* Use the `ALA2fes.dat` file to create a contour plot of the alanine dipeptide $\\Phi$ vs $\\Psi$ free-energy surface. Guidelines and information: \n",
    "    * The energy scale in the data input file is on kJ/mol and the free-energy surface (FES) was collected at a temperature of 300K: \n",
    "    * You should create a contour plot that draws contour lines spaced every kT in energy and stops drawing contours once all of the features can be clearly seen. \n",
    "        * This is a slightly different visualization than what we drew in class which used shaded coloring to draw the contours \n",
    "    * Annotate the cell so I can follow all the steps you are doing. The final energy plot need not be in kJ/mol (you can convert it to other energy or use units of kT if you prefer.\n",
    "    * Make sure to have titles, axis labels, something that denotes the value of the contours\n",
    "    * Optional but encouraged, use greek letters for the axes labels\n",
    "    * Note: only the first three columns of the `ALA2fes.dat` file are relevant. The first two columns are the $\\Psi$ and $\\Phi$ coordinates, respectively. The free.file column is the free energy data. Ignore the last two columns."
   ]
  },
  {
   "cell_type": "code",
   "execution_count": null,
   "metadata": {
    "collapsed": true
   },
   "outputs": [],
   "source": []
  }
 ],
 "metadata": {
  "anaconda-cloud": {},
  "kernelspec": {
   "display_name": "Python 3",
   "language": "python",
   "name": "python3"
  },
  "language_info": {
   "codemirror_mode": {
    "name": "ipython",
    "version": 3
   },
   "file_extension": ".py",
   "mimetype": "text/x-python",
   "name": "python",
   "nbconvert_exporter": "python",
   "pygments_lexer": "ipython3",
   "version": "3.7.4"
  }
 },
 "nbformat": 4,
 "nbformat_minor": 1
}
